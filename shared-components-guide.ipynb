{
 "cells": [
  {
   "cell_type": "markdown",
   "id": "7bd17af8",
   "metadata": {},
   "source": [
    "# Next.js Multi-Zone App with Shared Components\n",
    "\n",
    "This notebook provides a comprehensive guide for setting up and using shared components across a multi-zone Next.js application. It explains the different approaches available, configuration steps, and best practices."
   ]
  },
  {
   "cell_type": "markdown",
   "id": "fd43333d",
   "metadata": {},
   "source": [
    "## Approaches for Sharing Components\n",
    "\n",
    "There are three main approaches for sharing components between Next.js apps:\n",
    "\n",
    "1. **npm link (Development)** - Good for local development\n",
    "2. **Workspace Dependencies** - Best for monorepo setups\n",
    "3. **Published Package** - Best for production/deployment\n",
    "\n",
    "Let's explore each approach."
   ]
  },
  {
   "cell_type": "markdown",
   "id": "07153c9b",
   "metadata": {},
   "source": [
    "## Approach 1: npm link (Development)\n",
    "\n",
    "The `npm link` approach creates a symbolic link between your shared component package and the apps that consume it. This is great for development because changes to shared components are immediately available to consumer apps.\n",
    "\n",
    "### Steps for setting up npm link:"
   ]
  },
  {
   "cell_type": "code",
   "execution_count": null,
   "id": "93648110",
   "metadata": {
    "vscode": {
     "languageId": "javascript"
    }
   },
   "outputs": [],
   "source": [
    "// Step 1: In your shared components directory\n",
    "// Create a package.json file if not exists\n",
    "/*\n",
    "{\n",
    "  \"name\": \"shared-components\",\n",
    "  \"version\": \"1.0.0\",\n",
    "  \"main\": \"src/index.js\",\n",
    "  \"private\": true,\n",
    "  \"scripts\": {\n",
    "    \"dev\": \"echo \\\"No dev server for component library\\\" && exit 0\",\n",
    "    \"build\": \"echo \\\"No build needed for direct import\\\" && exit 0\"\n",
    "  },\n",
    "  \"dependencies\": {\n",
    "    \"react\": \"^18.2.0\",\n",
    "    \"react-dom\": \"^18.2.0\",\n",
    "    \"styled-components\": \"^6.0.0\"\n",
    "  },\n",
    "  \"peerDependencies\": {\n",
    "    \"next\": \"^13.0.0 || ^14.0.0 || ^15.0.0\",\n",
    "    \"react\": \"^17.0.0 || ^18.0.0 || ^19.0.0\",\n",
    "    \"react-dom\": \"^17.0.0 || ^18.0.0 || ^19.0.0\"\n",
    "  }\n",
    "}\n",
    "*/\n",
    "\n",
    "// Step 2: Register the package with npm link\n",
    "// Run this command in the shared-components directory\n",
    "// $ npm link\n",
    "\n",
    "// Step 3: Link to the package in each app\n",
    "// Run this command in each app directory (host-app, app1, etc.)\n",
    "// $ npm link shared-components"
   ]
  },
  {
   "cell_type": "markdown",
   "id": "368221f7",
   "metadata": {},
   "source": [
    "### Typical File Structure for Shared Components:\n",
    "\n",
    "```\n",
    "shared-components/\n",
    "├── package.json\n",
    "├── src/\n",
    "│   ├── index.js         # Main entry point that exports all components\n",
    "│   └── Components/\n",
    "│       ├── Button.js\n",
    "│       ├── Navbar.js\n",
    "│       └── DataTable.js\n",
    "```\n",
    "\n",
    "### Sample Component Implementation:"
   ]
  },
  {
   "cell_type": "code",
   "execution_count": null,
   "id": "626f5834",
   "metadata": {
    "vscode": {
     "languageId": "javascript"
    }
   },
   "outputs": [],
   "source": [
    "// Button.js\n",
    "\"use client\"; // This is important for Next.js client components\n",
    "\n",
    "import React from 'react';\n",
    "import styled from 'styled-components';\n",
    "\n",
    "const StyledButton = styled.button`\n",
    "  padding: 10px 15px;\n",
    "  border-radius: 4px;\n",
    "  font-weight: 600;\n",
    "  cursor: pointer;\n",
    "  transition: all 0.2s ease;\n",
    "  background-color: ${(props) => props.variant === 'primary' ? '#0070f3' : '#ffffff'};\n",
    "  color: ${(props) => props.variant === 'primary' ? '#ffffff' : '#0070f3'};\n",
    "  border: ${(props) => props.variant === 'primary' ? 'none' : '1px solid #0070f3'};\n",
    "\n",
    "  &:hover {\n",
    "    opacity: 0.9;\n",
    "    transform: translateY(-1px);\n",
    "  }\n",
    "`;\n",
    "\n",
    "const Button = ({ children, variant = 'primary', onClick, ...props }) => {\n",
    "  return (\n",
    "    <StyledButton \n",
    "      variant={variant} \n",
    "      onClick={onClick}\n",
    "      {...props}\n",
    "    >\n",
    "      {children}\n",
    "    </StyledButton>\n",
    "  );\n",
    "};\n",
    "\n",
    "export default Button;"
   ]
  },
  {
   "cell_type": "code",
   "execution_count": null,
   "id": "e4e5040c",
   "metadata": {
    "vscode": {
     "languageId": "javascript"
    }
   },
   "outputs": [],
   "source": [
    "// index.js - Main entry point for shared components\n",
    "import Button from './Components/Button';\n",
    "import Navbar from './Components/Navbar';\n",
    "import DataTable from './Components/DataTable';\n",
    "\n",
    "export {\n",
    "  Button,\n",
    "  Navbar,\n",
    "  DataTable\n",
    "};"
   ]
  },
  {
   "cell_type": "markdown",
   "id": "855266bc",
   "metadata": {},
   "source": [
    "## Approach 2: Workspace Dependencies (Monorepo)\n",
    "\n",
    "For a more robust setup, especially in larger projects, using a monorepo approach with workspace dependencies is recommended. This can be done using npm workspaces or a tool like Turborepo.\n",
    "\n",
    "### Setting up npm workspaces:"
   ]
  },
  {
   "cell_type": "code",
   "execution_count": null,
   "id": "2e276b86",
   "metadata": {
    "vscode": {
     "languageId": "javascript"
    }
   },
   "outputs": [],
   "source": [
    "// Root package.json\n",
    "/*\n",
    "{\n",
    "  \"name\": \"my-multizone-app\",\n",
    "  \"version\": \"1.0.0\",\n",
    "  \"private\": true,\n",
    "  \"workspaces\": [\n",
    "    \"host-app\",\n",
    "    \"app1\",\n",
    "    \"app2\",\n",
    "    \"shared-components\"\n",
    "  ],\n",
    "  \"scripts\": {\n",
    "    \"dev\": \"./start-zones.sh\",\n",
    "    \"build\": \"npm run build --workspaces\"\n",
    "  }\n",
    "}\n",
    "*/\n",
    "\n",
    "// In each app's package.json\n",
    "/*\n",
    "{\n",
    "  \"name\": \"host-app\",\n",
    "  \"dependencies\": {\n",
    "    \"shared-components\": \"*\",  // Workspace dependency\n",
    "    \"next\": \"^15.0.0\",\n",
    "    // other dependencies...\n",
    "  }\n",
    "}\n",
    "*/"
   ]
  },
  {
   "cell_type": "markdown",
   "id": "a8c5aced",
   "metadata": {},
   "source": [
    "## Next.js Configuration for Shared Components\n",
    "\n",
    "Each Next.js app needs to be configured to properly transpile the shared components package. This is done in the `next.config.js` (or `.mjs`) file:"
   ]
  },
  {
   "cell_type": "code",
   "execution_count": null,
   "id": "47008da7",
   "metadata": {
    "vscode": {
     "languageId": "javascript"
    }
   },
   "outputs": [],
   "source": [
    "// next.config.mjs in each app\n",
    "/**\n",
    " * @type {import('next').NextConfig}\n",
    " */\n",
    "const nextConfig = {\n",
    "  // This is crucial - it tells Next.js to transpile the shared-components package\n",
    "  transpilePackages: ['shared-components'],\n",
    "  \n",
    "  // Other Next.js configuration...\n",
    "  reactStrictMode: true,\n",
    "  \n",
    "  // For multi-zone apps\n",
    "  basePath: '/app1', // For sub-apps\n",
    "  \n",
    "  // Rewrites for multi-zone\n",
    "  async rewrites() {\n",
    "    return [\n",
    "      {\n",
    "        source: '/app2/:path*',\n",
    "        destination: 'http://localhost:3002/:path*',\n",
    "      },\n",
    "    ];\n",
    "  }\n",
    "};\n",
    "\n",
    "export default nextConfig;"
   ]
  },
  {
   "cell_type": "markdown",
   "id": "59daea90",
   "metadata": {},
   "source": [
    "## Using Shared Components in Next.js Apps\n",
    "\n",
    "Now that we've set up our shared components, let's look at how to use them in our Next.js applications:\n",
    "\n",
    "### Example 1: Using a shared Button component"
   ]
  },
  {
   "cell_type": "code",
   "execution_count": null,
   "id": "18379586",
   "metadata": {
    "vscode": {
     "languageId": "javascript"
    }
   },
   "outputs": [],
   "source": [
    "// app1/src/app/page.js\n",
    "\"use client\"; // Important when using client components\n",
    "\n",
    "import { Button } from 'shared-components';\n",
    "\n",
    "export default function Home() {\n",
    "  return (\n",
    "    <div>\n",
    "      <h1>Welcome to App 1</h1>\n",
    "      <Button onClick={() => alert('Button clicked!')}>\n",
    "        Click Me\n",
    "      </Button>\n",
    "      <Button variant=\"secondary\">\n",
    "        Secondary Button\n",
    "      </Button>\n",
    "    </div>\n",
    "  );\n",
    "}"
   ]
  },
  {
   "cell_type": "markdown",
   "id": "821591f6",
   "metadata": {},
   "source": [
    "### Example 2: Using a shared component with state lifting"
   ]
  },
  {
   "cell_type": "code",
   "execution_count": null,
   "id": "f66bdd8d",
   "metadata": {
    "vscode": {
     "languageId": "javascript"
    }
   },
   "outputs": [],
   "source": [
    "// app2/src/app/page.js\n",
    "\"use client\";\n",
    "\n",
    "import { useState } from 'react';\n",
    "import { SearchInput, DataTable } from 'shared-components';\n",
    "\n",
    "export default function SearchPage() {\n",
    "  const [searchResults, setSearchResults] = useState([]);\n",
    "  \n",
    "  const columns = [\n",
    "    { key: 'id', title: 'ID' },\n",
    "    { key: 'name', title: 'Name' },\n",
    "    { key: 'email', title: 'Email' }\n",
    "  ];\n",
    "  \n",
    "  // This function will be passed to the SearchInput component\n",
    "  // Example of state lifting\n",
    "  const handleSearch = (term) => {\n",
    "    // In a real app, you'd fetch data from an API\n",
    "    const mockResults = [\n",
    "      { id: 1, name: 'John Doe', email: 'john@example.com' },\n",
    "      { id: 2, name: 'Jane Smith', email: 'jane@example.com' }\n",
    "    ].filter(user => \n",
    "      user.name.toLowerCase().includes(term.toLowerCase())\n",
    "    );\n",
    "    \n",
    "    setSearchResults(mockResults);\n",
    "  };\n",
    "  \n",
    "  return (\n",
    "    <div>\n",
    "      <h1>User Search</h1>\n",
    "      \n",
    "      <SearchInput \n",
    "        onSearch={handleSearch}\n",
    "        placeholder=\"Search users...\"\n",
    "      />\n",
    "      \n",
    "      <DataTable \n",
    "        columns={columns}\n",
    "        data={searchResults}\n",
    "      />\n",
    "    </div>\n",
    "  );\n",
    "}"
   ]
  },
  {
   "cell_type": "markdown",
   "id": "33cecc51",
   "metadata": {},
   "source": [
    "## Best Practices for Shared Components\n",
    "\n",
    "1. **Always add \"use client\" directive** to components using React hooks, browser APIs, or client-side functionality\n",
    "2. **Keep dependencies consistent** across all apps and shared components\n",
    "3. **Design components to be reusable** with flexible props\n",
    "4. **Document your components** with clear examples\n",
    "5. **Consider a component storybook** for visual documentation\n",
    "6. **Use TypeScript** for better type safety and IDE support"
   ]
  },
  {
   "cell_type": "markdown",
   "id": "b3079033",
   "metadata": {},
   "source": [
    "## Troubleshooting Common Issues\n",
    "\n",
    "### 1. Component not found or \"Module not found\" errors\n",
    "- Check that the component is properly exported from index.js\n",
    "- Verify that transpilePackages is correctly configured\n",
    "- Make sure npm link was successful\n",
    "\n",
    "### 2. \"use client\" errors\n",
    "- Add \"use client\" directive to any component that uses client features\n",
    "- Check if the component is being used in a server component\n",
    "\n",
    "### 3. Styling issues\n",
    "- Ensure styled-components is installed in all packages\n",
    "- Check for CSS conflicts between apps\n",
    "\n",
    "### 4. Changes not reflected\n",
    "- In npm link setup, sometimes changes aren't reflected immediately\n",
    "- Try running `npm link shared-components` again in the consuming app"
   ]
  },
  {
   "cell_type": "markdown",
   "id": "3a886477",
   "metadata": {},
   "source": [
    "## Full Workflow Example\n",
    "\n",
    "Here's a complete workflow for developing with shared components:\n",
    "\n",
    "1. Make changes to shared components\n",
    "2. If using npm link, the changes are immediately available\n",
    "3. If using workspaces, may need to rebuild\n",
    "4. Restart Next.js development servers if needed\n",
    "5. Test your changes across all apps\n",
    "\n",
    "This workflow ensures that your shared components can be developed and tested efficiently across your multi-zone Next.js application."
   ]
  }
 ],
 "metadata": {
  "language_info": {
   "name": "python"
  }
 },
 "nbformat": 4,
 "nbformat_minor": 5
}
